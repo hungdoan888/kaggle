{
 "cells": [
  {
   "cell_type": "markdown",
   "metadata": {},
   "source": [
    "## Libraries"
   ]
  },
  {
   "cell_type": "code",
   "execution_count": 1,
   "metadata": {},
   "outputs": [],
   "source": [
    "import math\n",
    "from itertools import chain\n",
    "import pandas as pd\n",
    "import numpy as np\n",
    "import matplotlib.pyplot as plt\n",
    "import seaborn as sns\n",
    "\n",
    "from sklearn.cluster import DBSCAN\n",
    "from sklearn.preprocessing import StandardScaler\n",
    "from sklearn.ensemble import RandomForestClassifier\n",
    "from sklearn.model_selection import StratifiedKFold\n",
    "from sklearn.metrics import roc_curve, auc, accuracy_score, precision_score, recall_score, f1_score"
   ]
  },
  {
   "cell_type": "markdown",
   "metadata": {},
   "source": [
    "## Inputs"
   ]
  },
  {
   "cell_type": "code",
   "execution_count": 2,
   "metadata": {},
   "outputs": [],
   "source": [
    "inputFile = r'burke-gilman-trail-north-of-ne-70th-st-bike-and-ped-counter.csv'  # input file\n",
    "SEED = 42  # For model\n",
    "N = 5  # Cross validation"
   ]
  },
  {
   "cell_type": "markdown",
   "metadata": {},
   "source": [
    "## Import Data"
   ]
  },
  {
   "cell_type": "code",
   "execution_count": 3,
   "metadata": {},
   "outputs": [
    {
     "data": {
      "text/html": [
       "<div>\n",
       "<style scoped>\n",
       "    .dataframe tbody tr th:only-of-type {\n",
       "        vertical-align: middle;\n",
       "    }\n",
       "\n",
       "    .dataframe tbody tr th {\n",
       "        vertical-align: top;\n",
       "    }\n",
       "\n",
       "    .dataframe thead th {\n",
       "        text-align: right;\n",
       "    }\n",
       "</style>\n",
       "<table border=\"1\" class=\"dataframe\">\n",
       "  <thead>\n",
       "    <tr style=\"text-align: right;\">\n",
       "      <th></th>\n",
       "      <th>date</th>\n",
       "      <th>year</th>\n",
       "      <th>month</th>\n",
       "      <th>day</th>\n",
       "      <th>hour</th>\n",
       "      <th>total</th>\n",
       "      <th>pedSouth</th>\n",
       "      <th>pedNorth</th>\n",
       "      <th>bikeNorth</th>\n",
       "      <th>bikeSouth</th>\n",
       "      <th>anomaly</th>\n",
       "    </tr>\n",
       "  </thead>\n",
       "  <tbody>\n",
       "    <tr>\n",
       "      <th>0</th>\n",
       "      <td>2014-01-01 00:00:00</td>\n",
       "      <td>2014</td>\n",
       "      <td>1</td>\n",
       "      <td>1</td>\n",
       "      <td>0</td>\n",
       "      <td>15.0</td>\n",
       "      <td>0.0</td>\n",
       "      <td>2.0</td>\n",
       "      <td>2.0</td>\n",
       "      <td>11.0</td>\n",
       "      <td>0</td>\n",
       "    </tr>\n",
       "    <tr>\n",
       "      <th>1</th>\n",
       "      <td>2014-01-01 01:00:00</td>\n",
       "      <td>2014</td>\n",
       "      <td>1</td>\n",
       "      <td>1</td>\n",
       "      <td>1</td>\n",
       "      <td>9.0</td>\n",
       "      <td>1.0</td>\n",
       "      <td>0.0</td>\n",
       "      <td>1.0</td>\n",
       "      <td>7.0</td>\n",
       "      <td>0</td>\n",
       "    </tr>\n",
       "    <tr>\n",
       "      <th>2</th>\n",
       "      <td>2014-01-01 02:00:00</td>\n",
       "      <td>2014</td>\n",
       "      <td>1</td>\n",
       "      <td>1</td>\n",
       "      <td>2</td>\n",
       "      <td>9.0</td>\n",
       "      <td>0.0</td>\n",
       "      <td>0.0</td>\n",
       "      <td>0.0</td>\n",
       "      <td>9.0</td>\n",
       "      <td>0</td>\n",
       "    </tr>\n",
       "    <tr>\n",
       "      <th>3</th>\n",
       "      <td>2014-01-01 03:00:00</td>\n",
       "      <td>2014</td>\n",
       "      <td>1</td>\n",
       "      <td>1</td>\n",
       "      <td>3</td>\n",
       "      <td>19.0</td>\n",
       "      <td>0.0</td>\n",
       "      <td>0.0</td>\n",
       "      <td>0.0</td>\n",
       "      <td>19.0</td>\n",
       "      <td>0</td>\n",
       "    </tr>\n",
       "    <tr>\n",
       "      <th>4</th>\n",
       "      <td>2014-01-01 04:00:00</td>\n",
       "      <td>2014</td>\n",
       "      <td>1</td>\n",
       "      <td>1</td>\n",
       "      <td>4</td>\n",
       "      <td>19.0</td>\n",
       "      <td>0.0</td>\n",
       "      <td>0.0</td>\n",
       "      <td>0.0</td>\n",
       "      <td>19.0</td>\n",
       "      <td>0</td>\n",
       "    </tr>\n",
       "  </tbody>\n",
       "</table>\n",
       "</div>"
      ],
      "text/plain": [
       "                 date  year  month  day  hour  total  pedSouth  pedNorth  \\\n",
       "0 2014-01-01 00:00:00  2014      1    1     0   15.0       0.0       2.0   \n",
       "1 2014-01-01 01:00:00  2014      1    1     1    9.0       1.0       0.0   \n",
       "2 2014-01-01 02:00:00  2014      1    1     2    9.0       0.0       0.0   \n",
       "3 2014-01-01 03:00:00  2014      1    1     3   19.0       0.0       0.0   \n",
       "4 2014-01-01 04:00:00  2014      1    1     4   19.0       0.0       0.0   \n",
       "\n",
       "   bikeNorth  bikeSouth  anomaly  \n",
       "0        2.0       11.0        0  \n",
       "1        1.0        7.0        0  \n",
       "2        0.0        9.0        0  \n",
       "3        0.0       19.0        0  \n",
       "4        0.0       19.0        0  "
      ]
     },
     "execution_count": 3,
     "metadata": {},
     "output_type": "execute_result"
    }
   ],
   "source": [
    "def importData(inputFile):\n",
    "    # Read File\n",
    "    df = pd.read_csv(inputFile)\n",
    "\n",
    "    # Rename Columns\n",
    "    df = df.rename(columns={'Date': 'date',\n",
    "                            'BGT North of NE 70th Total': 'total',\n",
    "                            'Ped South': 'pedSouth',\n",
    "                            'Ped North': 'pedNorth',\n",
    "                            'Bike North': 'bikeNorth',\n",
    "                            'Bike South': 'bikeSouth'})\n",
    "    \n",
    "    # Change date to standard date\n",
    "    df['date'] = df['date'].apply(lambda x: pd.to_datetime(x))\n",
    "    \n",
    "    # Sort by date\n",
    "    df = df.sort_values('date')\n",
    "       \n",
    "    # Separate Date\n",
    "    df.insert(loc=1, column='year', value=df['date'].apply(lambda x: x.year))\n",
    "    df.insert(loc=2, column='month', value=df['date'].apply(lambda x: x.month))\n",
    "    df.insert(loc=3, column='day', value=df['date'].apply(lambda x: x.day))\n",
    "    df.insert(loc=4, column='hour', value=df['date'].apply(lambda x: x.hour))\n",
    "    \n",
    "    # Anomaly\n",
    "    df['anomaly'] = df['total'].apply(lambda x: 1 if x >= 500 else 0)\n",
    "    return df\n",
    "\n",
    "df = importData(inputFile)\n",
    "df.head()"
   ]
  },
  {
   "cell_type": "markdown",
   "metadata": {},
   "source": [
    "## Create  NaN Df\n",
    "This dataframe will be used later to cross reference test set.  If there are entries in test set with imputed values, those values will be removed from testing."
   ]
  },
  {
   "cell_type": "code",
   "execution_count": 4,
   "metadata": {},
   "outputs": [
    {
     "data": {
      "text/html": [
       "<div>\n",
       "<style scoped>\n",
       "    .dataframe tbody tr th:only-of-type {\n",
       "        vertical-align: middle;\n",
       "    }\n",
       "\n",
       "    .dataframe tbody tr th {\n",
       "        vertical-align: top;\n",
       "    }\n",
       "\n",
       "    .dataframe thead th {\n",
       "        text-align: right;\n",
       "    }\n",
       "</style>\n",
       "<table border=\"1\" class=\"dataframe\">\n",
       "  <thead>\n",
       "    <tr style=\"text-align: right;\">\n",
       "      <th></th>\n",
       "      <th>date</th>\n",
       "      <th>year</th>\n",
       "      <th>month</th>\n",
       "      <th>day</th>\n",
       "      <th>hour</th>\n",
       "      <th>total</th>\n",
       "      <th>pedSouth</th>\n",
       "      <th>pedNorth</th>\n",
       "      <th>bikeNorth</th>\n",
       "      <th>bikeSouth</th>\n",
       "      <th>anomaly</th>\n",
       "    </tr>\n",
       "  </thead>\n",
       "  <tbody>\n",
       "    <tr>\n",
       "      <th>5337</th>\n",
       "      <td>2014-08-11 09:00:00</td>\n",
       "      <td>2014</td>\n",
       "      <td>8</td>\n",
       "      <td>11</td>\n",
       "      <td>9</td>\n",
       "      <td>NaN</td>\n",
       "      <td>NaN</td>\n",
       "      <td>NaN</td>\n",
       "      <td>NaN</td>\n",
       "      <td>NaN</td>\n",
       "      <td>0</td>\n",
       "    </tr>\n",
       "    <tr>\n",
       "      <th>6586</th>\n",
       "      <td>2014-10-02 10:00:00</td>\n",
       "      <td>2014</td>\n",
       "      <td>10</td>\n",
       "      <td>2</td>\n",
       "      <td>10</td>\n",
       "      <td>NaN</td>\n",
       "      <td>NaN</td>\n",
       "      <td>NaN</td>\n",
       "      <td>NaN</td>\n",
       "      <td>NaN</td>\n",
       "      <td>0</td>\n",
       "    </tr>\n",
       "    <tr>\n",
       "      <th>9563</th>\n",
       "      <td>2015-02-03 11:00:00</td>\n",
       "      <td>2015</td>\n",
       "      <td>2</td>\n",
       "      <td>3</td>\n",
       "      <td>11</td>\n",
       "      <td>NaN</td>\n",
       "      <td>NaN</td>\n",
       "      <td>NaN</td>\n",
       "      <td>NaN</td>\n",
       "      <td>NaN</td>\n",
       "      <td>0</td>\n",
       "    </tr>\n",
       "    <tr>\n",
       "      <th>10346</th>\n",
       "      <td>2015-03-08 02:00:00</td>\n",
       "      <td>2015</td>\n",
       "      <td>3</td>\n",
       "      <td>8</td>\n",
       "      <td>2</td>\n",
       "      <td>NaN</td>\n",
       "      <td>NaN</td>\n",
       "      <td>NaN</td>\n",
       "      <td>NaN</td>\n",
       "      <td>NaN</td>\n",
       "      <td>0</td>\n",
       "    </tr>\n",
       "    <tr>\n",
       "      <th>19250</th>\n",
       "      <td>2016-03-13 02:00:00</td>\n",
       "      <td>2016</td>\n",
       "      <td>3</td>\n",
       "      <td>13</td>\n",
       "      <td>2</td>\n",
       "      <td>NaN</td>\n",
       "      <td>NaN</td>\n",
       "      <td>NaN</td>\n",
       "      <td>NaN</td>\n",
       "      <td>NaN</td>\n",
       "      <td>0</td>\n",
       "    </tr>\n",
       "  </tbody>\n",
       "</table>\n",
       "</div>"
      ],
      "text/plain": [
       "                     date  year  month  day  hour  total  pedSouth  pedNorth  \\\n",
       "5337  2014-08-11 09:00:00  2014      8   11     9    NaN       NaN       NaN   \n",
       "6586  2014-10-02 10:00:00  2014     10    2    10    NaN       NaN       NaN   \n",
       "9563  2015-02-03 11:00:00  2015      2    3    11    NaN       NaN       NaN   \n",
       "10346 2015-03-08 02:00:00  2015      3    8     2    NaN       NaN       NaN   \n",
       "19250 2016-03-13 02:00:00  2016      3   13     2    NaN       NaN       NaN   \n",
       "\n",
       "       bikeNorth  bikeSouth  anomaly  \n",
       "5337         NaN        NaN        0  \n",
       "6586         NaN        NaN        0  \n",
       "9563         NaN        NaN        0  \n",
       "10346        NaN        NaN        0  \n",
       "19250        NaN        NaN        0  "
      ]
     },
     "execution_count": 4,
     "metadata": {},
     "output_type": "execute_result"
    }
   ],
   "source": [
    "def getAllNaNs(df):\n",
    "    df_nan = df[df['total'].isna()]\n",
    "    return df_nan\n",
    "\n",
    "df_nan = getAllNaNs(df)\n",
    "df_nan.head()"
   ]
  },
  {
   "cell_type": "markdown",
   "metadata": {},
   "source": [
    "## Create Traffic versus Time Plot\n",
    "- Yearly seasonality\n",
    "- Missing values in 2018\n",
    "- Huge outliers prior to missing values"
   ]
  },
  {
   "cell_type": "code",
   "execution_count": 5,
   "metadata": {},
   "outputs": [
    {
     "data": {
      "image/png": "[encoded data removed]",
      "text/plain": [
       "<Figure size 432x288 with 1 Axes>"
      ]
     },
     "metadata": {
      "needs_background": "light"
     },
     "output_type": "display_data"
    }
   ],
   "source": [
    "def trafficTimePlot(df):\n",
    "    # Total traffic vs time\n",
    "    plt.plot(df['date'], df['total'])\n",
    "    plt.axhline(y=500, color='r', linestyle='-')\n",
    "    plt.grid(color='grey', linestyle='-', linewidth=.5)\n",
    "    plt.xlabel(\"Time\")\n",
    "    plt.ylabel(\"Total Traffic\")\n",
    "    plt.title ('Total Traffic vs Time')\n",
    "    \n",
    "trafficTimePlot(df)"
   ]
  },
  {
   "cell_type": "markdown",
   "metadata": {},
   "source": [
    "## Plot histograms\n",
    "- Increased traffic during the summer seasons\n",
    "- Increased traffic during the day time, especially around 1600 and 1700"
   ]
  },
  {
   "cell_type": "code",
   "execution_count": 6,
   "metadata": {},
   "outputs": [
    {
     "data": {
      "image/png": "[encoded data removed]",
      "text/plain": [
       "<Figure size 432x288 with 1 Axes>"
      ]
     },
     "metadata": {
      "needs_background": "light"
     },
     "output_type": "display_data"
    },
    {
     "data": {
      "image/png": "[encoded data removed]",
      "text/plain": [
       "<Figure size 432x288 with 1 Axes>"
      ]
     },
     "metadata": {
      "needs_background": "light"
     },
     "output_type": "display_data"
    },
    {
     "data": {
      "image/png": "[encoded data removed]",
      "text/plain": [
       "<Figure size 432x288 with 1 Axes>"
      ]
     },
     "metadata": {
      "needs_background": "light"
     },
     "output_type": "display_data"
    },
    {
     "data": {
      "image/png": "[encoded data removed]",
      "text/plain": [
       "<Figure size 432x288 with 1 Axes>"
      ]
     },
     "metadata": {
      "needs_background": "light"
     },
     "output_type": "display_data"
    }
   ],
   "source": [
    "def plotHistograms(df):\n",
    "    # By year\n",
    "    df_year = df.groupby('year')['total'].mean().to_frame('yearAvg').reset_index()\n",
    "    df_year.plot.bar(x='year', y='yearAvg')\n",
    "    \n",
    "    # By month\n",
    "    df_month = df.groupby('month')['total'].mean().to_frame('monthAvg').reset_index()\n",
    "    df_month.plot.bar(x='month', y='monthAvg')\n",
    "    \n",
    "    # By day\n",
    "    df_day = df.groupby('day')['total'].mean().to_frame('dayAvg').reset_index()\n",
    "    df_day.plot.bar(x='day', y='dayAvg')\n",
    "    \n",
    "    # By hour\n",
    "    df_hour = df.groupby('hour')['total'].mean().to_frame('hourAvg').reset_index()\n",
    "    df_hour.plot.bar(x='hour', y='hourAvg')\n",
    "\n",
    "plotHistograms(df)   "
   ]
  },
  {
   "cell_type": "markdown",
   "metadata": {},
   "source": [
    "## Month versus Hour Plots\n",
    "### Plot 1: Total Number of anomalies by month and hour\n",
    "- May has the most anomalies\n",
    "- September, October, November have a decent amount of anomalies\n",
    "- Increased number of anomalies between 0600 and 1500"
   ]
  },
  {
   "cell_type": "code",
   "execution_count": 7,
   "metadata": {},
   "outputs": [
    {
     "data": {
      "image/png": "[encoded data removed]",
      "text/plain": [
       "<Figure size 432x288 with 2 Axes>"
      ]
     },
     "metadata": {
      "needs_background": "light"
     },
     "output_type": "display_data"
    }
   ],
   "source": [
    "def monthHourPlot1(df):\n",
    "    # Number of anomalies by month hour\n",
    "    df_numAnom = df.groupby(['month', 'hour'])['anomaly'].sum().reset_index()\n",
    "    df_numAnom = df_numAnom.pivot('hour', 'month', 'anomaly')\n",
    "    ax1 = sns.heatmap(df_numAnom, annot=True, cmap='Blues', fmt=\"d\")    \n",
    "    ax1.set_title('Number of Anomalies by month and hour')\n",
    "    \n",
    "monthHourPlot1(df)"
   ]
  },
  {
   "cell_type": "markdown",
   "metadata": {},
   "source": [
    "### Plot 2: Mean total for anomalies by month and hour\n",
    "- Increased total traffic in May\n",
    "- Increased total traffic from April to September\n",
    "- Incrased total traffic from 0700 to 1800"
   ]
  },
  {
   "cell_type": "code",
   "execution_count": 8,
   "metadata": {},
   "outputs": [
    {
     "data": {
      "image/png": "[encoded data removed]",
      "text/plain": [
       "<Figure size 432x288 with 2 Axes>"
      ]
     },
     "metadata": {
      "needs_background": "light"
     },
     "output_type": "display_data"
    }
   ],
   "source": [
    "def monthHourPlot2(df):\n",
    "    df_meanTotal = df.groupby(['month', 'hour'])['total'].mean().reset_index()\n",
    "    df_meanTotal = df_meanTotal.pivot('hour', 'month', 'total')\n",
    "    ax1 = sns.heatmap(df_meanTotal, cmap='Blues', fmt=\"d\") \n",
    "    ax1.set_title('Mean total for anomalies by month and hour')\n",
    "    \n",
    "monthHourPlot2(df)"
   ]
  },
  {
   "cell_type": "markdown",
   "metadata": {},
   "source": [
    "### Plot 3: Binary view for anomalies by month and hour\n",
    "- Allows us to see clusters of anomalies"
   ]
  },
  {
   "cell_type": "code",
   "execution_count": 9,
   "metadata": {},
   "outputs": [
    {
     "data": {
      "image/png": "[encoded data removed]",
      "text/plain": [
       "<Figure size 432x288 with 1 Axes>"
      ]
     },
     "metadata": {
      "needs_background": "light"
     },
     "output_type": "display_data"
    }
   ],
   "source": [
    "def monthHourPlot3(df):\n",
    "    df_anom = df[df['anomaly'] == 1]\n",
    "    df_norm = df[df['anomaly'] == 0]\n",
    "    plt.scatter(df_norm['month'], df_norm['hour'], c='b', s=2)\n",
    "    plt.scatter(df_anom['month'], df_anom['hour'], c='r', s=2)\n",
    "    plt.xlabel(\"Month\")\n",
    "    plt.ylabel(\"Hour\")\n",
    "    plt.title ('Number of Anomalies by month and hour')\n",
    "    \n",
    "monthHourPlot3(df)"
   ]
  },
  {
   "cell_type": "markdown",
   "metadata": {},
   "source": [
    "## Outlier Detection using Density Based Spacial Clustering\n",
    "- Unsupervised ML method for decting outliers\n",
    "- Create 20 different clusters\n",
    "- Last cluster has the largest outliers\n",
    "\n",
    "Really, what I wanted to accomplish here was to remove those huge outliers hovering around 10,000.  Using this method, I reduced any outlier greater than the lowest value in the last cluster (2619) to that lowest value"
   ]
  },
  {
   "cell_type": "code",
   "execution_count": 10,
   "metadata": {},
   "outputs": [
    {
     "data": {
      "image/png": "[encoded data removed]",
      "text/plain": [
       "<Figure size 432x288 with 1 Axes>"
      ]
     },
     "metadata": {
      "needs_background": "light"
     },
     "output_type": "display_data"
    }
   ],
   "source": [
    "def outlierDetection(df):\n",
    "    # Get min outlier threshold \n",
    "    minOutlierValue = useDBSCAN(df)\n",
    "    \n",
    "    # Change values of pedSouth\n",
    "    df['pedSouth'] = df.apply(lambda row: row['pedSouth'] if row['total'] < minOutlierValue \n",
    "                                                          else row['pedSouth'] * minOutlierValue // row['total'], \n",
    "                                                          axis=1)\n",
    "    \n",
    "    # Change values of pedNorth\n",
    "    df['pedNorth'] = df.apply(lambda row: row['pedNorth'] if row['total'] < minOutlierValue \n",
    "                                                          else row['pedNorth'] * minOutlierValue // row['total'], \n",
    "                                                          axis=1)\n",
    "    \n",
    "    # Change values of bikeSouth\n",
    "    df['bikeSouth'] = df.apply(lambda row: row['bikeSouth'] if row['total'] < minOutlierValue \n",
    "                                                          else row['bikeSouth'] * minOutlierValue // row['total'], \n",
    "                                                          axis=1)\n",
    "    \n",
    "    # Change values of bikeNorth\n",
    "    df['bikeNorth'] = df.apply(lambda row: row['bikeNorth'] if row['total'] < minOutlierValue \n",
    "                                                          else row['bikeNorth'] * minOutlierValue // row['total'], \n",
    "                                                          axis=1)\n",
    "    \n",
    "    # Recalculate the total\n",
    "    df['total'] = df['pedSouth'] + df['pedNorth'] + df['bikeSouth'] + df['bikeNorth']\n",
    "    return df\n",
    "    \n",
    "# Density Based Spacial Clustering \n",
    "def useDBSCAN(df):\n",
    "    # Convert to np array\n",
    "    dbValue = df['total'].to_numpy()\n",
    "    dbDate = df['date'].to_numpy()\n",
    "    \n",
    "    # Get rid of NaNs\n",
    "    notNanIdx = ~np.isnan(dbValue)\n",
    "    dbValue = dbValue[notNanIdx].reshape(-1,1)\n",
    "    dbDate = dbDate[notNanIdx].reshape(-1,1)\n",
    "    \n",
    "    # Find outliers\n",
    "    clusters = DBSCAN(eps=20, min_samples=2).fit(dbValue).labels_\n",
    "    \n",
    "    # Plot Results\n",
    "    plt.scatter(dbDate, dbValue, c=clusters)\n",
    "    \n",
    "    # Take the group with the highest values\n",
    "    outliers = dbValue[clusters==-1]\n",
    "\n",
    "    # Min outlier value\n",
    "    minOutlierValue = min(outliers)\n",
    "    minOutlierValue = int(minOutlierValue[0])\n",
    "    \n",
    "    # Plot outlier cutoff line\n",
    "    plt.axhline(y=minOutlierValue, color='r', linestyle='-')\n",
    "    return minOutlierValue\n",
    "\n",
    "df = outlierDetection(df)"
   ]
  },
  {
   "cell_type": "markdown",
   "metadata": {},
   "source": [
    "## Impute missing values\n",
    "The strategy here is to find the cumulative mean by grouping by year, month, day, hour.  If there is a missing value, then the value will take the cumulative mean value of the previous year, month, day, hour.  If the year is the first year (2014), it will take the value of the previous hour. "
   ]
  },
  {
   "cell_type": "code",
   "execution_count": 11,
   "metadata": {},
   "outputs": [
    {
     "data": {
      "image/png": "[encoded data removed]",
      "text/plain": [
       "<Figure size 432x288 with 1 Axes>"
      ]
     },
     "metadata": {
      "needs_background": "light"
     },
     "output_type": "display_data"
    }
   ],
   "source": [
    "def imputation(df):\n",
    "    # Create a copy of df to manipulate and append results to df\n",
    "    df_imp = df.copy(deep=True)\n",
    "    \n",
    "    # Cumsum\n",
    "    df_imp['totalCumsum'] = df_imp.groupby(['month', 'day', 'hour'])['total'].cumsum()\n",
    "    df_imp['pedSouthCumsum'] = df_imp.groupby(['month', 'day', 'hour'])['pedSouth'].cumsum()\n",
    "    df_imp['pedNorthCumsum'] = df_imp.groupby(['month', 'day', 'hour'])['pedNorth'].cumsum()\n",
    "    df_imp['bikeSouthCumsum'] = df_imp.groupby(['month', 'day', 'hour'])['bikeSouth'].cumsum()\n",
    "    df_imp['bikeNorthCumsum'] = df_imp.groupby(['month', 'day', 'hour'])['bikeNorth'].cumsum()\n",
    "\n",
    "    # Rank\n",
    "    df_imp['rank'] = df_imp.groupby(['month', 'day', 'hour'])['year'].rank()\n",
    "    \n",
    "    # CumMean\n",
    "    df_imp['totalCumMean'] = df_imp['totalCumsum'] / df_imp['rank']\n",
    "    df_imp['pedSouthCumMean'] = df_imp['pedSouthCumsum'] / df_imp['rank']\n",
    "    df_imp['pedNorthCumMean'] = df_imp['pedNorthCumsum'] / df_imp['rank']\n",
    "    df_imp['bikeSouthCumMean'] = df_imp['bikeSouthCumsum'] / df_imp['rank']\n",
    "    df_imp['bikeNorthCumMean'] = df_imp['bikeNorthCumsum'] / df_imp['rank']\n",
    "    \n",
    "    # Sort Values by month, day, hour\n",
    "    df = df.sort_values(['month', 'day', 'hour'])\n",
    "    df_imp = df_imp.sort_values(['month', 'day', 'hour'])\n",
    "    \n",
    "    # Add Total Cumulative Mean to df\n",
    "    df['totalCumMean'] = df_imp['totalCumMean']\n",
    "    \n",
    "    # Impute values\n",
    "    df = df.apply(lambda row: insertImputedValues(row, df, df_imp), axis=1)\n",
    "    \n",
    "    # Sort Values by time\n",
    "    df = df.sort_values('date')\n",
    "    return df\n",
    "     \n",
    "def insertImputedValues(row, df, df_imp):\n",
    "    # Define variables\n",
    "    year = row['year']\n",
    "    month = row['month']\n",
    "    day = row['day']\n",
    "    hour = row['hour']\n",
    "    total = row['total']\n",
    "    \n",
    "    # Return current values if nothing to impute\n",
    "    if not pd.isnull(total):\n",
    "        return row\n",
    "    \n",
    "    # If year is 2014, return previous hours value\n",
    "    if year == 2014:\n",
    "        # Take previous hour sample\n",
    "        df_temp = df[(df['year'] == year) & (df['month'] == month) & (df['day'] == day) & (df['hour'] == hour-1)]\n",
    "        \n",
    "        row['total'] = df_temp['total'].iloc[0]                # total\n",
    "        row['totalCumMean'] = df_temp['totalCumMean'].iloc[0]  # totalCumMean\n",
    "        row['pedSouth'] = df_temp['pedSouth'].iloc[0]          # pedSouth\n",
    "        row['pedNorth'] = df_temp['pedNorth'].iloc[0]          # pedNorth\n",
    "        row['bikeSouth'] = df_temp['bikeSouth'].iloc[0]        # bikeSouth\n",
    "        row['bikeNorth'] = df_temp['bikeNorth'].iloc[0]        # bikeNorth\n",
    "        return row\n",
    "    \n",
    "    # Take previous year's value\n",
    "    df_impTemp = df_imp[(df_imp['year'] == year-1) & (df_imp['month'] == month) & \n",
    "                        (df_imp['day'] == day) & (df_imp['hour'] == hour)]\n",
    "      \n",
    "    row['total'] = df_impTemp['totalCumMean'].iloc[0]          # total\n",
    "    row['totalCumMean'] = df_impTemp['totalCumMean'].iloc[0]   # totalCumMean\n",
    "    row['pedSouth'] = df_impTemp['pedSouthCumMean'].iloc[0]    # pedSouth\n",
    "    row['pedNorth'] = df_impTemp['pedNorthCumMean'].iloc[0]    # pedNorth\n",
    "    row['bikeSouth'] = df_impTemp['bikeSouthCumMean'].iloc[0]  # bikeSouth\n",
    "    row['bikeNorth'] = df_impTemp['bikeNorthCumMean'].iloc[0]  # bikeNorth\n",
    "    return row\n",
    "\n",
    "df = imputation(df)\n",
    "\n",
    "# Plot Traffic vs Time again to see missing values imputed\n",
    "trafficTimePlot(df)"
   ]
  },
  {
   "cell_type": "markdown",
   "metadata": {},
   "source": [
    "## Month, Hour Cumulative Mean\n",
    "From our insights gathered from the heat maps, features that will be added will be the cumulative mean of traffic grouped by month and hour"
   ]
  },
  {
   "cell_type": "code",
   "execution_count": 12,
   "metadata": {},
   "outputs": [],
   "source": [
    "def monthHourCumMean(df):\n",
    "    # Create a copy of df to manipulate\n",
    "    df_monthHour = df.copy(deep=True)\n",
    "    \n",
    "    # Sort df and df_monthHour\n",
    "    df = df.sort_values(['month', 'hour'])\n",
    "    df_monthHour = df_monthHour.sort_values(['month', 'hour'])\n",
    "    \n",
    "    # Group by month hour and get cumulative sum of anomaly and total\n",
    "    df_monthHour['totalCumSum'] = df_monthHour.groupby(['month', 'hour'])['total'].cumsum()\n",
    "    df_monthHour['anomalyCumSum'] = df_monthHour.groupby(['month', 'hour'])['anomaly'].cumsum()\n",
    "    \n",
    "    # Get rank to calculate cumulative means\n",
    "    df_monthHour['rank'] = df_monthHour.groupby(['month', 'hour'])['year'].rank(method='first')\n",
    "    \n",
    "    # Calculate cumulative mean for anomaly and total\n",
    "    df['monthHourTotalCumMean'] = df_monthHour['totalCumSum'] / df_monthHour['rank']\n",
    "    df['monthHourAnomalyCumMean'] = df_monthHour['anomalyCumSum'] / df_monthHour['rank']\n",
    "    \n",
    "    # Sort df by time\n",
    "    df = df.sort_values('date')\n",
    "    return df\n",
    "\n",
    "df = monthHourCumMean(df)"
   ]
  },
  {
   "cell_type": "markdown",
   "metadata": {},
   "source": [
    "## Calculate Lags and future values (y values)\n",
    "- total traffic lag1\n",
    "- rate of traffic change from previous lag\n",
    "- Anomaly lag1 - was there an anomaly in the previous hour\n",
    "- Anomaly 3 hours into the future (y-value)\n",
    "- Traffic 3 hours into the future (y-value if using regression)"
   ]
  },
  {
   "cell_type": "code",
   "execution_count": 13,
   "metadata": {},
   "outputs": [],
   "source": [
    "def getLags(df):\n",
    "    # Lag total by 1\n",
    "    df['totalLag1'] = df['total'].shift()\n",
    "    \n",
    "    # Get rate of change since last 1\n",
    "    df['totalRate1'] = df['total'] - df['totalLag1']\n",
    "    \n",
    "    # Anomoly lag1\n",
    "    df['anomalyLag1'] = df['anomaly'].shift()\n",
    "    \n",
    "    # Get total future values to use for prediction\n",
    "    df['anomalyFuture'] = df['anomaly'].shift(-3)\n",
    "    df['totalFuture'] = df['total'].shift(-3)\n",
    "    \n",
    "    # Drop first row and last 3 due to creating nans\n",
    "    df = df.dropna()\n",
    "    return df\n",
    "\n",
    "df = getLags(df)"
   ]
  },
  {
   "cell_type": "markdown",
   "metadata": {},
   "source": [
    "## Transform Time\n",
    "\n",
    "From heat map insights, we saw that there were clusters of times when an anomaly was more likely to happen.  Since time is cyclical, we use a sin-cos encoding."
   ]
  },
  {
   "cell_type": "code",
   "execution_count": 14,
   "metadata": {},
   "outputs": [],
   "source": [
    "def transformTime(df):\n",
    "    df = sinCosEncoding(df, 'month')  # month\n",
    "    df = sinCosEncoding(df, 'day')    # day\n",
    "    df = sinCosEncoding(df, 'hour')   # hour\n",
    "    return df\n",
    "\n",
    "# Sin Cos Encoding for time\n",
    "def sinCosEncoding(df, column):\n",
    "    max_value = df[column].max()\n",
    "    df[column + '_cos'] = df[column].apply(lambda x: math.cos((2 * math.pi * x) / max_value))\n",
    "    df[column + '_sin'] = df[column].apply(lambda x: math.sin((2 * math.pi * x) / max_value))\n",
    "    return df\n",
    "\n",
    "df = transformTime(df)"
   ]
  },
  {
   "cell_type": "markdown",
   "metadata": {},
   "source": [
    "## Reduce columns to only those needed for model"
   ]
  },
  {
   "cell_type": "code",
   "execution_count": 15,
   "metadata": {},
   "outputs": [
    {
     "data": {
      "text/html": [
       "<div>\n",
       "<style scoped>\n",
       "    .dataframe tbody tr th:only-of-type {\n",
       "        vertical-align: middle;\n",
       "    }\n",
       "\n",
       "    .dataframe tbody tr th {\n",
       "        vertical-align: top;\n",
       "    }\n",
       "\n",
       "    .dataframe thead th {\n",
       "        text-align: right;\n",
       "    }\n",
       "</style>\n",
       "<table border=\"1\" class=\"dataframe\">\n",
       "  <thead>\n",
       "    <tr style=\"text-align: right;\">\n",
       "      <th></th>\n",
       "      <th>month_cos</th>\n",
       "      <th>month_sin</th>\n",
       "      <th>day_cos</th>\n",
       "      <th>day_sin</th>\n",
       "      <th>hour_cos</th>\n",
       "      <th>hour_sin</th>\n",
       "      <th>total</th>\n",
       "      <th>totalCumMean</th>\n",
       "      <th>totalLag1</th>\n",
       "      <th>totalRate1</th>\n",
       "      <th>monthHourTotalCumMean</th>\n",
       "      <th>anomaly</th>\n",
       "      <th>anomalyLag1</th>\n",
       "      <th>monthHourAnomalyCumMean</th>\n",
       "      <th>anomalyFuture</th>\n",
       "    </tr>\n",
       "  </thead>\n",
       "  <tbody>\n",
       "    <tr>\n",
       "      <th>1</th>\n",
       "      <td>0.866025</td>\n",
       "      <td>0.5</td>\n",
       "      <td>0.97953</td>\n",
       "      <td>0.201299</td>\n",
       "      <td>0.962917</td>\n",
       "      <td>0.269797</td>\n",
       "      <td>9.0</td>\n",
       "      <td>9.0</td>\n",
       "      <td>15.0</td>\n",
       "      <td>-6.0</td>\n",
       "      <td>9.0</td>\n",
       "      <td>0</td>\n",
       "      <td>0.0</td>\n",
       "      <td>0.0</td>\n",
       "      <td>0.0</td>\n",
       "    </tr>\n",
       "    <tr>\n",
       "      <th>2</th>\n",
       "      <td>0.866025</td>\n",
       "      <td>0.5</td>\n",
       "      <td>0.97953</td>\n",
       "      <td>0.201299</td>\n",
       "      <td>0.854419</td>\n",
       "      <td>0.519584</td>\n",
       "      <td>9.0</td>\n",
       "      <td>9.0</td>\n",
       "      <td>9.0</td>\n",
       "      <td>0.0</td>\n",
       "      <td>9.0</td>\n",
       "      <td>0</td>\n",
       "      <td>0.0</td>\n",
       "      <td>0.0</td>\n",
       "      <td>0.0</td>\n",
       "    </tr>\n",
       "    <tr>\n",
       "      <th>3</th>\n",
       "      <td>0.866025</td>\n",
       "      <td>0.5</td>\n",
       "      <td>0.97953</td>\n",
       "      <td>0.201299</td>\n",
       "      <td>0.682553</td>\n",
       "      <td>0.730836</td>\n",
       "      <td>19.0</td>\n",
       "      <td>19.0</td>\n",
       "      <td>9.0</td>\n",
       "      <td>10.0</td>\n",
       "      <td>19.0</td>\n",
       "      <td>0</td>\n",
       "      <td>0.0</td>\n",
       "      <td>0.0</td>\n",
       "      <td>0.0</td>\n",
       "    </tr>\n",
       "    <tr>\n",
       "      <th>4</th>\n",
       "      <td>0.866025</td>\n",
       "      <td>0.5</td>\n",
       "      <td>0.97953</td>\n",
       "      <td>0.201299</td>\n",
       "      <td>0.460065</td>\n",
       "      <td>0.887885</td>\n",
       "      <td>19.0</td>\n",
       "      <td>19.0</td>\n",
       "      <td>19.0</td>\n",
       "      <td>0.0</td>\n",
       "      <td>19.0</td>\n",
       "      <td>0</td>\n",
       "      <td>0.0</td>\n",
       "      <td>0.0</td>\n",
       "      <td>0.0</td>\n",
       "    </tr>\n",
       "    <tr>\n",
       "      <th>5</th>\n",
       "      <td>0.866025</td>\n",
       "      <td>0.5</td>\n",
       "      <td>0.97953</td>\n",
       "      <td>0.201299</td>\n",
       "      <td>0.203456</td>\n",
       "      <td>0.979084</td>\n",
       "      <td>14.0</td>\n",
       "      <td>14.0</td>\n",
       "      <td>19.0</td>\n",
       "      <td>-5.0</td>\n",
       "      <td>14.0</td>\n",
       "      <td>0</td>\n",
       "      <td>0.0</td>\n",
       "      <td>0.0</td>\n",
       "      <td>0.0</td>\n",
       "    </tr>\n",
       "  </tbody>\n",
       "</table>\n",
       "</div>"
      ],
      "text/plain": [
       "   month_cos  month_sin  day_cos   day_sin  hour_cos  hour_sin  total  \\\n",
       "1   0.866025        0.5  0.97953  0.201299  0.962917  0.269797    9.0   \n",
       "2   0.866025        0.5  0.97953  0.201299  0.854419  0.519584    9.0   \n",
       "3   0.866025        0.5  0.97953  0.201299  0.682553  0.730836   19.0   \n",
       "4   0.866025        0.5  0.97953  0.201299  0.460065  0.887885   19.0   \n",
       "5   0.866025        0.5  0.97953  0.201299  0.203456  0.979084   14.0   \n",
       "\n",
       "   totalCumMean  totalLag1  totalRate1  monthHourTotalCumMean  anomaly  \\\n",
       "1           9.0       15.0        -6.0                    9.0        0   \n",
       "2           9.0        9.0         0.0                    9.0        0   \n",
       "3          19.0        9.0        10.0                   19.0        0   \n",
       "4          19.0       19.0         0.0                   19.0        0   \n",
       "5          14.0       19.0        -5.0                   14.0        0   \n",
       "\n",
       "   anomalyLag1  monthHourAnomalyCumMean  anomalyFuture  \n",
       "1          0.0                      0.0            0.0  \n",
       "2          0.0                      0.0            0.0  \n",
       "3          0.0                      0.0            0.0  \n",
       "4          0.0                      0.0            0.0  \n",
       "5          0.0                      0.0            0.0  "
      ]
     },
     "execution_count": 15,
     "metadata": {},
     "output_type": "execute_result"
    }
   ],
   "source": [
    "def getColumnsForModel(df):\n",
    "    df_model = df[['month_cos', 'month_sin', \n",
    "                   'day_cos', 'day_sin',\n",
    "                   'hour_cos', 'hour_sin', \n",
    "                   'total', 'totalCumMean', 'totalLag1', 'totalRate1',\n",
    "                   'monthHourTotalCumMean',\n",
    "                   'anomaly', 'anomalyLag1',\n",
    "                   'monthHourAnomalyCumMean',\n",
    "                   'anomalyFuture']]\n",
    "    return df_model\n",
    "\n",
    "df_model = getColumnsForModel(df)\n",
    "df_model.head()"
   ]
  },
  {
   "cell_type": "markdown",
   "metadata": {},
   "source": [
    "## Use a Standard Scalar to scale numeric features"
   ]
  },
  {
   "cell_type": "code",
   "execution_count": 16,
   "metadata": {},
   "outputs": [
    {
     "data": {
      "text/html": [
       "<div>\n",
       "<style scoped>\n",
       "    .dataframe tbody tr th:only-of-type {\n",
       "        vertical-align: middle;\n",
       "    }\n",
       "\n",
       "    .dataframe tbody tr th {\n",
       "        vertical-align: top;\n",
       "    }\n",
       "\n",
       "    .dataframe thead th {\n",
       "        text-align: right;\n",
       "    }\n",
       "</style>\n",
       "<table border=\"1\" class=\"dataframe\">\n",
       "  <thead>\n",
       "    <tr style=\"text-align: right;\">\n",
       "      <th></th>\n",
       "      <th>month_cos</th>\n",
       "      <th>month_sin</th>\n",
       "      <th>day_cos</th>\n",
       "      <th>day_sin</th>\n",
       "      <th>hour_cos</th>\n",
       "      <th>hour_sin</th>\n",
       "      <th>total</th>\n",
       "      <th>totalCumMean</th>\n",
       "      <th>totalLag1</th>\n",
       "      <th>totalRate1</th>\n",
       "      <th>monthHourTotalCumMean</th>\n",
       "      <th>anomaly</th>\n",
       "      <th>anomalyLag1</th>\n",
       "      <th>monthHourAnomalyCumMean</th>\n",
       "      <th>anomalyFuture</th>\n",
       "    </tr>\n",
       "  </thead>\n",
       "  <tbody>\n",
       "    <tr>\n",
       "      <th>1</th>\n",
       "      <td>0.866025</td>\n",
       "      <td>0.5</td>\n",
       "      <td>0.97953</td>\n",
       "      <td>0.201299</td>\n",
       "      <td>0.962917</td>\n",
       "      <td>0.269797</td>\n",
       "      <td>-0.383028</td>\n",
       "      <td>-0.713989</td>\n",
       "      <td>-0.347867</td>\n",
       "      <td>-0.072298</td>\n",
       "      <td>-0.879312</td>\n",
       "      <td>0</td>\n",
       "      <td>0.0</td>\n",
       "      <td>-0.297959</td>\n",
       "      <td>0.0</td>\n",
       "    </tr>\n",
       "    <tr>\n",
       "      <th>2</th>\n",
       "      <td>0.866025</td>\n",
       "      <td>0.5</td>\n",
       "      <td>0.97953</td>\n",
       "      <td>0.201299</td>\n",
       "      <td>0.854419</td>\n",
       "      <td>0.519584</td>\n",
       "      <td>-0.383028</td>\n",
       "      <td>-0.713989</td>\n",
       "      <td>-0.383029</td>\n",
       "      <td>0.000003</td>\n",
       "      <td>-0.879312</td>\n",
       "      <td>0</td>\n",
       "      <td>0.0</td>\n",
       "      <td>-0.297959</td>\n",
       "      <td>0.0</td>\n",
       "    </tr>\n",
       "    <tr>\n",
       "      <th>3</th>\n",
       "      <td>0.866025</td>\n",
       "      <td>0.5</td>\n",
       "      <td>0.97953</td>\n",
       "      <td>0.201299</td>\n",
       "      <td>0.682553</td>\n",
       "      <td>0.730836</td>\n",
       "      <td>-0.324423</td>\n",
       "      <td>-0.591070</td>\n",
       "      <td>-0.383029</td>\n",
       "      <td>0.120504</td>\n",
       "      <td>-0.728744</td>\n",
       "      <td>0</td>\n",
       "      <td>0.0</td>\n",
       "      <td>-0.297959</td>\n",
       "      <td>0.0</td>\n",
       "    </tr>\n",
       "    <tr>\n",
       "      <th>4</th>\n",
       "      <td>0.866025</td>\n",
       "      <td>0.5</td>\n",
       "      <td>0.97953</td>\n",
       "      <td>0.201299</td>\n",
       "      <td>0.460065</td>\n",
       "      <td>0.887885</td>\n",
       "      <td>-0.324423</td>\n",
       "      <td>-0.591070</td>\n",
       "      <td>-0.324425</td>\n",
       "      <td>0.000003</td>\n",
       "      <td>-0.728744</td>\n",
       "      <td>0</td>\n",
       "      <td>0.0</td>\n",
       "      <td>-0.297959</td>\n",
       "      <td>0.0</td>\n",
       "    </tr>\n",
       "    <tr>\n",
       "      <th>5</th>\n",
       "      <td>0.866025</td>\n",
       "      <td>0.5</td>\n",
       "      <td>0.97953</td>\n",
       "      <td>0.201299</td>\n",
       "      <td>0.203456</td>\n",
       "      <td>0.979084</td>\n",
       "      <td>-0.353725</td>\n",
       "      <td>-0.652530</td>\n",
       "      <td>-0.324425</td>\n",
       "      <td>-0.060248</td>\n",
       "      <td>-0.804028</td>\n",
       "      <td>0</td>\n",
       "      <td>0.0</td>\n",
       "      <td>-0.297959</td>\n",
       "      <td>0.0</td>\n",
       "    </tr>\n",
       "  </tbody>\n",
       "</table>\n",
       "</div>"
      ],
      "text/plain": [
       "   month_cos  month_sin  day_cos   day_sin  hour_cos  hour_sin     total  \\\n",
       "1   0.866025        0.5  0.97953  0.201299  0.962917  0.269797 -0.383028   \n",
       "2   0.866025        0.5  0.97953  0.201299  0.854419  0.519584 -0.383028   \n",
       "3   0.866025        0.5  0.97953  0.201299  0.682553  0.730836 -0.324423   \n",
       "4   0.866025        0.5  0.97953  0.201299  0.460065  0.887885 -0.324423   \n",
       "5   0.866025        0.5  0.97953  0.201299  0.203456  0.979084 -0.353725   \n",
       "\n",
       "   totalCumMean  totalLag1  totalRate1  monthHourTotalCumMean  anomaly  \\\n",
       "1     -0.713989  -0.347867   -0.072298              -0.879312        0   \n",
       "2     -0.713989  -0.383029    0.000003              -0.879312        0   \n",
       "3     -0.591070  -0.383029    0.120504              -0.728744        0   \n",
       "4     -0.591070  -0.324425    0.000003              -0.728744        0   \n",
       "5     -0.652530  -0.324425   -0.060248              -0.804028        0   \n",
       "\n",
       "   anomalyLag1  monthHourAnomalyCumMean  anomalyFuture  \n",
       "1          0.0                -0.297959            0.0  \n",
       "2          0.0                -0.297959            0.0  \n",
       "3          0.0                -0.297959            0.0  \n",
       "4          0.0                -0.297959            0.0  \n",
       "5          0.0                -0.297959            0.0  "
      ]
     },
     "execution_count": 16,
     "metadata": {},
     "output_type": "execute_result"
    }
   ],
   "source": [
    "def scaleFeatures(df_model):\n",
    "    # Create a df of numeric features to scale\n",
    "    df_num = df_model[['total', 'totalCumMean', 'totalLag1', 'totalRate1', \n",
    "                       'monthHourTotalCumMean','monthHourAnomalyCumMean']]\n",
    "    \n",
    "    # Drop numeric features from df_model\n",
    "    df_model = df_model.drop(['total', 'totalCumMean', 'totalLag1', 'totalRate1', \n",
    "                              'monthHourTotalCumMean','monthHourAnomalyCumMean'], axis=1)\n",
    "    \n",
    "    # Scale numeric features\n",
    "    scaledFeatures = StandardScaler().fit_transform(df_num)\n",
    "    df_scaled = pd.DataFrame(scaledFeatures, index=df_num.index, columns=df_num.columns)\n",
    "    \n",
    "    # Horizontally concatenate \n",
    "    df_model = pd.concat([df_model, df_scaled], axis=1)\n",
    "\n",
    "    # Reorganize order\n",
    "    df_model = getColumnsForModel(df_model)\n",
    "    return df_model\n",
    "\n",
    "df_model = scaleFeatures(df_model)\n",
    "df_model.head()"
   ]
  },
  {
   "cell_type": "markdown",
   "metadata": {},
   "source": [
    "## Define X and y values and split data into training and test sets"
   ]
  },
  {
   "cell_type": "code",
   "execution_count": 17,
   "metadata": {},
   "outputs": [],
   "source": [
    "def defineXandy(df_model):\n",
    "    # Use last 27% for testing.  This gives 110 anomalies in test set and 386 in training\n",
    "    testStartIdx = getTestStartIdx(df_model)\n",
    "    \n",
    "    # Train and test\n",
    "    df_train = df_model.iloc[:testStartIdx]\n",
    "    df_test = df_model.iloc[testStartIdx:]\n",
    "    \n",
    "    # Define X\n",
    "    X_train = df_train.drop(columns='anomalyFuture').to_numpy()\n",
    "    X_test = df_test.drop(columns='anomalyFuture').to_numpy()\n",
    "\n",
    "    # Define y\n",
    "    y_train = df_train['anomalyFuture'].values\n",
    "    y_test = df_test['anomalyFuture'].values\n",
    "    return df_train, df_test, X_train, X_test, y_train, y_test\n",
    "\n",
    "# Get testStartIdx\n",
    "def getTestStartIdx(df_model):\n",
    "    # Use last 27% for testing.  This gives 110 anomalies in test set and 386 in training\n",
    "    testStartIdx = int(len(df_model) - (len(df_model) * .27))\n",
    "    return testStartIdx\n",
    "\n",
    "df_train, df_test, X_train, X_test, y_train, y_test = defineXandy(df_model)"
   ]
  },
  {
   "cell_type": "markdown",
   "metadata": {},
   "source": [
    "## Use Random Forest Classification model"
   ]
  },
  {
   "cell_type": "code",
   "execution_count": 18,
   "metadata": {},
   "outputs": [],
   "source": [
    "def createModel(SEED):\n",
    "    model = RandomForestClassifier(criterion='gini',\n",
    "                                   n_estimators=1750,\n",
    "                                   max_depth=7,\n",
    "                                   min_samples_split=6,\n",
    "                                   min_samples_leaf=6,\n",
    "                                   max_features='auto',\n",
    "                                   oob_score=True,\n",
    "                                   random_state=SEED,\n",
    "                                   n_jobs=-1,\n",
    "                                   verbose=1)\n",
    "    return model\n",
    "\n",
    "model = createModel(SEED)"
   ]
  },
  {
   "cell_type": "markdown",
   "metadata": {},
   "source": [
    "## Evaluate Model\n",
    "- Use stratified k-fold cross validation to balance data sets\n",
    "- Average OOB score is 0.99 (almost seems to good to be true)"
   ]
  },
  {
   "cell_type": "code",
   "execution_count": 19,
   "metadata": {},
   "outputs": [
    {
     "name": "stdout",
     "output_type": "stream",
     "text": [
      "Fold 1\n",
      "\n"
     ]
    },
    {
     "name": "stderr",
     "output_type": "stream",
     "text": [
      "[Parallel(n_jobs=-1)]: Using backend ThreadingBackend with 16 concurrent workers.\n",
      "[Parallel(n_jobs=-1)]: Done  18 tasks      | elapsed:    0.0s\n",
      "[Parallel(n_jobs=-1)]: Done 168 tasks      | elapsed:    0.3s\n",
      "[Parallel(n_jobs=-1)]: Done 418 tasks      | elapsed:    0.7s\n",
      "[Parallel(n_jobs=-1)]: Done 768 tasks      | elapsed:    1.4s\n",
      "[Parallel(n_jobs=-1)]: Done 1218 tasks      | elapsed:    2.2s\n",
      "[Parallel(n_jobs=-1)]: Done 1750 out of 1750 | elapsed:    3.2s finished\n"
     ]
    },
    {
     "name": "stdout",
     "output_type": "stream",
     "text": [
      "Fold 1 OOB Score: 0.9934214811437504\n",
      "\n"
     ]
    },
    {
     "name": "stderr",
     "output_type": "stream",
     "text": [
      "[Parallel(n_jobs=16)]: Using backend ThreadingBackend with 16 concurrent workers.\n",
      "[Parallel(n_jobs=16)]: Done  18 tasks      | elapsed:    0.0s\n",
      "[Parallel(n_jobs=16)]: Done 168 tasks      | elapsed:    0.0s\n",
      "[Parallel(n_jobs=16)]: Done 418 tasks      | elapsed:    0.0s\n",
      "[Parallel(n_jobs=16)]: Done 768 tasks      | elapsed:    0.2s\n",
      "[Parallel(n_jobs=16)]: Done 1218 tasks      | elapsed:    0.3s\n",
      "[Parallel(n_jobs=16)]: Done 1750 out of 1750 | elapsed:    0.5s finished\n",
      "[Parallel(n_jobs=16)]: Using backend ThreadingBackend with 16 concurrent workers.\n",
      "[Parallel(n_jobs=16)]: Done  18 tasks      | elapsed:    0.0s\n",
      "[Parallel(n_jobs=16)]: Done 168 tasks      | elapsed:    0.0s\n",
      "[Parallel(n_jobs=16)]: Done 418 tasks      | elapsed:    0.0s\n",
      "[Parallel(n_jobs=16)]: Done 768 tasks      | elapsed:    0.1s\n",
      "[Parallel(n_jobs=16)]: Done 1218 tasks      | elapsed:    0.3s\n",
      "[Parallel(n_jobs=16)]: Done 1750 out of 1750 | elapsed:    0.4s finished\n",
      "[Parallel(n_jobs=16)]: Using backend ThreadingBackend with 16 concurrent workers.\n",
      "[Parallel(n_jobs=16)]: Done  18 tasks      | elapsed:    0.0s\n",
      "[Parallel(n_jobs=16)]: Done 168 tasks      | elapsed:    0.0s\n",
      "[Parallel(n_jobs=16)]: Done 418 tasks      | elapsed:    0.0s\n",
      "[Parallel(n_jobs=16)]: Done 768 tasks      | elapsed:    0.1s\n",
      "[Parallel(n_jobs=16)]: Done 1218 tasks      | elapsed:    0.3s\n",
      "[Parallel(n_jobs=16)]: Done 1750 out of 1750 | elapsed:    0.4s finished\n",
      "[Parallel(n_jobs=16)]: Using backend ThreadingBackend with 16 concurrent workers.\n",
      "[Parallel(n_jobs=16)]: Done  18 tasks      | elapsed:    0.0s\n",
      "[Parallel(n_jobs=16)]: Done 168 tasks      | elapsed:    0.0s\n",
      "[Parallel(n_jobs=16)]: Done 418 tasks      | elapsed:    0.0s\n",
      "[Parallel(n_jobs=16)]: Done 768 tasks      | elapsed:    0.1s\n",
      "[Parallel(n_jobs=16)]: Done 1218 tasks      | elapsed:    0.3s\n",
      "[Parallel(n_jobs=16)]: Done 1750 out of 1750 | elapsed:    0.4s finished\n"
     ]
    },
    {
     "name": "stdout",
     "output_type": "stream",
     "text": [
      "Fold 2\n",
      "\n"
     ]
    },
    {
     "name": "stderr",
     "output_type": "stream",
     "text": [
      "[Parallel(n_jobs=-1)]: Using backend ThreadingBackend with 16 concurrent workers.\n",
      "[Parallel(n_jobs=-1)]: Done  18 tasks      | elapsed:    0.0s\n",
      "[Parallel(n_jobs=-1)]: Done 168 tasks      | elapsed:    0.2s\n",
      "[Parallel(n_jobs=-1)]: Done 418 tasks      | elapsed:    0.7s\n",
      "[Parallel(n_jobs=-1)]: Done 768 tasks      | elapsed:    1.3s\n",
      "[Parallel(n_jobs=-1)]: Done 1218 tasks      | elapsed:    2.2s\n",
      "[Parallel(n_jobs=-1)]: Done 1750 out of 1750 | elapsed:    3.1s finished\n"
     ]
    },
    {
     "name": "stdout",
     "output_type": "stream",
     "text": [
      "Fold 2 OOB Score: 0.9934540480687813\n",
      "\n"
     ]
    },
    {
     "name": "stderr",
     "output_type": "stream",
     "text": [
      "[Parallel(n_jobs=16)]: Using backend ThreadingBackend with 16 concurrent workers.\n",
      "[Parallel(n_jobs=16)]: Done  18 tasks      | elapsed:    0.0s\n",
      "[Parallel(n_jobs=16)]: Done 168 tasks      | elapsed:    0.0s\n",
      "[Parallel(n_jobs=16)]: Done 418 tasks      | elapsed:    0.0s\n",
      "[Parallel(n_jobs=16)]: Done 768 tasks      | elapsed:    0.2s\n",
      "[Parallel(n_jobs=16)]: Done 1218 tasks      | elapsed:    0.3s\n",
      "[Parallel(n_jobs=16)]: Done 1750 out of 1750 | elapsed:    0.5s finished\n",
      "[Parallel(n_jobs=16)]: Using backend ThreadingBackend with 16 concurrent workers.\n",
      "[Parallel(n_jobs=16)]: Done  18 tasks      | elapsed:    0.0s\n",
      "[Parallel(n_jobs=16)]: Done 168 tasks      | elapsed:    0.0s\n",
      "[Parallel(n_jobs=16)]: Done 418 tasks      | elapsed:    0.0s\n",
      "[Parallel(n_jobs=16)]: Done 768 tasks      | elapsed:    0.1s\n",
      "[Parallel(n_jobs=16)]: Done 1218 tasks      | elapsed:    0.3s\n",
      "[Parallel(n_jobs=16)]: Done 1750 out of 1750 | elapsed:    0.4s finished\n",
      "[Parallel(n_jobs=16)]: Using backend ThreadingBackend with 16 concurrent workers.\n",
      "[Parallel(n_jobs=16)]: Done  18 tasks      | elapsed:    0.0s\n",
      "[Parallel(n_jobs=16)]: Done 168 tasks      | elapsed:    0.0s\n",
      "[Parallel(n_jobs=16)]: Done 418 tasks      | elapsed:    0.0s\n",
      "[Parallel(n_jobs=16)]: Done 768 tasks      | elapsed:    0.1s\n",
      "[Parallel(n_jobs=16)]: Done 1218 tasks      | elapsed:    0.3s\n",
      "[Parallel(n_jobs=16)]: Done 1750 out of 1750 | elapsed:    0.4s finished\n",
      "[Parallel(n_jobs=16)]: Using backend ThreadingBackend with 16 concurrent workers.\n",
      "[Parallel(n_jobs=16)]: Done  18 tasks      | elapsed:    0.0s\n",
      "[Parallel(n_jobs=16)]: Done 168 tasks      | elapsed:    0.0s\n",
      "[Parallel(n_jobs=16)]: Done 418 tasks      | elapsed:    0.0s\n",
      "[Parallel(n_jobs=16)]: Done 768 tasks      | elapsed:    0.1s\n",
      "[Parallel(n_jobs=16)]: Done 1218 tasks      | elapsed:    0.3s\n",
      "[Parallel(n_jobs=16)]: Done 1750 out of 1750 | elapsed:    0.4s finished\n"
     ]
    },
    {
     "name": "stdout",
     "output_type": "stream",
     "text": [
      "Fold 3\n",
      "\n"
     ]
    },
    {
     "name": "stderr",
     "output_type": "stream",
     "text": [
      "[Parallel(n_jobs=-1)]: Using backend ThreadingBackend with 16 concurrent workers.\n",
      "[Parallel(n_jobs=-1)]: Done  18 tasks      | elapsed:    0.0s\n",
      "[Parallel(n_jobs=-1)]: Done 168 tasks      | elapsed:    0.2s\n",
      "[Parallel(n_jobs=-1)]: Done 418 tasks      | elapsed:    0.7s\n",
      "[Parallel(n_jobs=-1)]: Done 768 tasks      | elapsed:    1.3s\n",
      "[Parallel(n_jobs=-1)]: Done 1218 tasks      | elapsed:    2.2s\n",
      "[Parallel(n_jobs=-1)]: Done 1750 out of 1750 | elapsed:    3.1s finished\n"
     ]
    },
    {
     "name": "stdout",
     "output_type": "stream",
     "text": [
      "Fold 3 OOB Score: 0.9935191819188433\n",
      "\n"
     ]
    },
    {
     "name": "stderr",
     "output_type": "stream",
     "text": [
      "[Parallel(n_jobs=16)]: Using backend ThreadingBackend with 16 concurrent workers.\n",
      "[Parallel(n_jobs=16)]: Done  18 tasks      | elapsed:    0.0s\n",
      "[Parallel(n_jobs=16)]: Done 168 tasks      | elapsed:    0.0s\n",
      "[Parallel(n_jobs=16)]: Done 418 tasks      | elapsed:    0.0s\n",
      "[Parallel(n_jobs=16)]: Done 768 tasks      | elapsed:    0.2s\n",
      "[Parallel(n_jobs=16)]: Done 1218 tasks      | elapsed:    0.3s\n",
      "[Parallel(n_jobs=16)]: Done 1750 out of 1750 | elapsed:    0.5s finished\n",
      "[Parallel(n_jobs=16)]: Using backend ThreadingBackend with 16 concurrent workers.\n",
      "[Parallel(n_jobs=16)]: Done  18 tasks      | elapsed:    0.0s\n",
      "[Parallel(n_jobs=16)]: Done 168 tasks      | elapsed:    0.0s\n",
      "[Parallel(n_jobs=16)]: Done 418 tasks      | elapsed:    0.0s\n",
      "[Parallel(n_jobs=16)]: Done 768 tasks      | elapsed:    0.1s\n",
      "[Parallel(n_jobs=16)]: Done 1218 tasks      | elapsed:    0.3s\n",
      "[Parallel(n_jobs=16)]: Done 1750 out of 1750 | elapsed:    0.4s finished\n",
      "[Parallel(n_jobs=16)]: Using backend ThreadingBackend with 16 concurrent workers.\n",
      "[Parallel(n_jobs=16)]: Done  18 tasks      | elapsed:    0.0s\n",
      "[Parallel(n_jobs=16)]: Done 168 tasks      | elapsed:    0.0s\n",
      "[Parallel(n_jobs=16)]: Done 418 tasks      | elapsed:    0.0s\n",
      "[Parallel(n_jobs=16)]: Done 768 tasks      | elapsed:    0.1s\n",
      "[Parallel(n_jobs=16)]: Done 1218 tasks      | elapsed:    0.3s\n",
      "[Parallel(n_jobs=16)]: Done 1750 out of 1750 | elapsed:    0.4s finished\n",
      "[Parallel(n_jobs=16)]: Using backend ThreadingBackend with 16 concurrent workers.\n",
      "[Parallel(n_jobs=16)]: Done  18 tasks      | elapsed:    0.0s\n",
      "[Parallel(n_jobs=16)]: Done 168 tasks      | elapsed:    0.0s\n",
      "[Parallel(n_jobs=16)]: Done 418 tasks      | elapsed:    0.0s\n",
      "[Parallel(n_jobs=16)]: Done 768 tasks      | elapsed:    0.1s\n",
      "[Parallel(n_jobs=16)]: Done 1218 tasks      | elapsed:    0.3s\n",
      "[Parallel(n_jobs=16)]: Done 1750 out of 1750 | elapsed:    0.4s finished\n"
     ]
    },
    {
     "name": "stdout",
     "output_type": "stream",
     "text": [
      "Fold 4\n",
      "\n"
     ]
    },
    {
     "name": "stderr",
     "output_type": "stream",
     "text": [
      "[Parallel(n_jobs=-1)]: Using backend ThreadingBackend with 16 concurrent workers.\n",
      "[Parallel(n_jobs=-1)]: Done  18 tasks      | elapsed:    0.0s\n",
      "[Parallel(n_jobs=-1)]: Done 168 tasks      | elapsed:    0.2s\n",
      "[Parallel(n_jobs=-1)]: Done 418 tasks      | elapsed:    0.7s\n",
      "[Parallel(n_jobs=-1)]: Done 768 tasks      | elapsed:    1.3s\n",
      "[Parallel(n_jobs=-1)]: Done 1218 tasks      | elapsed:    2.1s\n",
      "[Parallel(n_jobs=-1)]: Done 1750 out of 1750 | elapsed:    3.1s finished\n"
     ]
    },
    {
     "name": "stdout",
     "output_type": "stream",
     "text": [
      "Fold 4 OOB Score: 0.9934216953789038\n",
      "\n"
     ]
    },
    {
     "name": "stderr",
     "output_type": "stream",
     "text": [
      "[Parallel(n_jobs=16)]: Using backend ThreadingBackend with 16 concurrent workers.\n",
      "[Parallel(n_jobs=16)]: Done  18 tasks      | elapsed:    0.0s\n",
      "[Parallel(n_jobs=16)]: Done 168 tasks      | elapsed:    0.0s\n",
      "[Parallel(n_jobs=16)]: Done 418 tasks      | elapsed:    0.0s\n",
      "[Parallel(n_jobs=16)]: Done 768 tasks      | elapsed:    0.2s\n",
      "[Parallel(n_jobs=16)]: Done 1218 tasks      | elapsed:    0.3s\n",
      "[Parallel(n_jobs=16)]: Done 1750 out of 1750 | elapsed:    0.5s finished\n",
      "[Parallel(n_jobs=16)]: Using backend ThreadingBackend with 16 concurrent workers.\n",
      "[Parallel(n_jobs=16)]: Done  18 tasks      | elapsed:    0.0s\n",
      "[Parallel(n_jobs=16)]: Done 168 tasks      | elapsed:    0.0s\n",
      "[Parallel(n_jobs=16)]: Done 418 tasks      | elapsed:    0.0s\n",
      "[Parallel(n_jobs=16)]: Done 768 tasks      | elapsed:    0.1s\n",
      "[Parallel(n_jobs=16)]: Done 1218 tasks      | elapsed:    0.2s\n",
      "[Parallel(n_jobs=16)]: Done 1750 out of 1750 | elapsed:    0.4s finished\n",
      "[Parallel(n_jobs=16)]: Using backend ThreadingBackend with 16 concurrent workers.\n",
      "[Parallel(n_jobs=16)]: Done  18 tasks      | elapsed:    0.0s\n",
      "[Parallel(n_jobs=16)]: Done 168 tasks      | elapsed:    0.0s\n",
      "[Parallel(n_jobs=16)]: Done 418 tasks      | elapsed:    0.0s\n",
      "[Parallel(n_jobs=16)]: Done 768 tasks      | elapsed:    0.1s\n",
      "[Parallel(n_jobs=16)]: Done 1218 tasks      | elapsed:    0.3s\n",
      "[Parallel(n_jobs=16)]: Done 1750 out of 1750 | elapsed:    0.4s finished\n",
      "[Parallel(n_jobs=16)]: Using backend ThreadingBackend with 16 concurrent workers.\n",
      "[Parallel(n_jobs=16)]: Done  18 tasks      | elapsed:    0.0s\n",
      "[Parallel(n_jobs=16)]: Done 168 tasks      | elapsed:    0.0s\n",
      "[Parallel(n_jobs=16)]: Done 418 tasks      | elapsed:    0.0s\n",
      "[Parallel(n_jobs=16)]: Done 768 tasks      | elapsed:    0.1s\n",
      "[Parallel(n_jobs=16)]: Done 1218 tasks      | elapsed:    0.3s\n",
      "[Parallel(n_jobs=16)]: Done 1750 out of 1750 | elapsed:    0.4s finished\n"
     ]
    },
    {
     "name": "stdout",
     "output_type": "stream",
     "text": [
      "Fold 5\n",
      "\n"
     ]
    },
    {
     "name": "stderr",
     "output_type": "stream",
     "text": [
      "[Parallel(n_jobs=-1)]: Using backend ThreadingBackend with 16 concurrent workers.\n",
      "[Parallel(n_jobs=-1)]: Done  18 tasks      | elapsed:    0.0s\n",
      "[Parallel(n_jobs=-1)]: Done 168 tasks      | elapsed:    0.2s\n",
      "[Parallel(n_jobs=-1)]: Done 418 tasks      | elapsed:    0.7s\n",
      "[Parallel(n_jobs=-1)]: Done 768 tasks      | elapsed:    1.3s\n",
      "[Parallel(n_jobs=-1)]: Done 1218 tasks      | elapsed:    2.1s\n",
      "[Parallel(n_jobs=-1)]: Done 1750 out of 1750 | elapsed:    3.1s finished\n"
     ]
    },
    {
     "name": "stdout",
     "output_type": "stream",
     "text": [
      "Fold 5 OOB Score: 0.9934542612433647\n",
      "\n"
     ]
    },
    {
     "name": "stderr",
     "output_type": "stream",
     "text": [
      "[Parallel(n_jobs=16)]: Using backend ThreadingBackend with 16 concurrent workers.\n",
      "[Parallel(n_jobs=16)]: Done  18 tasks      | elapsed:    0.0s\n",
      "[Parallel(n_jobs=16)]: Done 168 tasks      | elapsed:    0.0s\n",
      "[Parallel(n_jobs=16)]: Done 418 tasks      | elapsed:    0.0s\n",
      "[Parallel(n_jobs=16)]: Done 768 tasks      | elapsed:    0.1s\n",
      "[Parallel(n_jobs=16)]: Done 1218 tasks      | elapsed:    0.3s\n",
      "[Parallel(n_jobs=16)]: Done 1750 out of 1750 | elapsed:    0.4s finished\n",
      "[Parallel(n_jobs=16)]: Using backend ThreadingBackend with 16 concurrent workers.\n",
      "[Parallel(n_jobs=16)]: Done  18 tasks      | elapsed:    0.0s\n",
      "[Parallel(n_jobs=16)]: Done 168 tasks      | elapsed:    0.0s\n",
      "[Parallel(n_jobs=16)]: Done 418 tasks      | elapsed:    0.0s\n",
      "[Parallel(n_jobs=16)]: Done 768 tasks      | elapsed:    0.1s\n",
      "[Parallel(n_jobs=16)]: Done 1218 tasks      | elapsed:    0.2s\n",
      "[Parallel(n_jobs=16)]: Done 1750 out of 1750 | elapsed:    0.4s finished\n",
      "[Parallel(n_jobs=16)]: Using backend ThreadingBackend with 16 concurrent workers.\n",
      "[Parallel(n_jobs=16)]: Done  18 tasks      | elapsed:    0.0s\n",
      "[Parallel(n_jobs=16)]: Done 168 tasks      | elapsed:    0.0s\n",
      "[Parallel(n_jobs=16)]: Done 418 tasks      | elapsed:    0.0s\n",
      "[Parallel(n_jobs=16)]: Done 768 tasks      | elapsed:    0.1s\n",
      "[Parallel(n_jobs=16)]: Done 1218 tasks      | elapsed:    0.3s\n",
      "[Parallel(n_jobs=16)]: Done 1750 out of 1750 | elapsed:    0.4s finished\n",
      "[Parallel(n_jobs=16)]: Using backend ThreadingBackend with 16 concurrent workers.\n",
      "[Parallel(n_jobs=16)]: Done  18 tasks      | elapsed:    0.0s\n",
      "[Parallel(n_jobs=16)]: Done 168 tasks      | elapsed:    0.0s\n",
      "[Parallel(n_jobs=16)]: Done 418 tasks      | elapsed:    0.0s\n",
      "[Parallel(n_jobs=16)]: Done 768 tasks      | elapsed:    0.1s\n",
      "[Parallel(n_jobs=16)]: Done 1218 tasks      | elapsed:    0.3s\n"
     ]
    },
    {
     "name": "stdout",
     "output_type": "stream",
     "text": [
      "Average OOB Score: 0.9934541335507288\n"
     ]
    },
    {
     "name": "stderr",
     "output_type": "stream",
     "text": [
      "[Parallel(n_jobs=16)]: Done 1750 out of 1750 | elapsed:    0.4s finished\n"
     ]
    }
   ],
   "source": [
    "def evaluateModel(model, df_train, X_train, y_train, X_test, N):\n",
    "    # Out of bag score to predict accuracy of testing set\n",
    "    oob = 0\n",
    "    \n",
    "    # Give probability of survival\n",
    "    df_pred = pd.DataFrame(np.zeros((len(X_test), N * 2)), \n",
    "                           columns=['Fold_{}_Prob_{}'.format(i, j) for i in range(1, N + 1) for j in range(2)])\n",
    "    \n",
    "    # Dataframe to keep track of fprs, tprs, trnAucScore, and valAucScore\n",
    "    df_roc = pd.DataFrame()\n",
    "    \n",
    "    # Feature Importance\n",
    "    columns = list(df_train.columns)\n",
    "    columns.remove('anomalyFuture')\n",
    "    df_featImp = pd.DataFrame(np.zeros((X_train.shape[1], N)), \n",
    "                              columns=['Fold_{}'.format(i) for i in range(1, N + 1)], \n",
    "                              index=columns)\n",
    "    \n",
    "    # Stratified crossfold validaiton\n",
    "    skf = StratifiedKFold(n_splits=N, random_state=N, shuffle=True)\n",
    "    for fold, (trnIdx, valIdx) in enumerate(skf.split(X_train, y_train), 1):\n",
    "        print('Fold {}\\n'.format(fold))\n",
    "        \n",
    "        # Fitting the model\n",
    "        model.fit(X_train[trnIdx], y_train[trnIdx])\n",
    "        \n",
    "        # Compute oob score\n",
    "        oob += model.oob_score_ / N\n",
    "        print('Fold {} OOB Score: {}\\n'.format(fold, model.oob_score_))   \n",
    "        \n",
    "        # Computing AUC score\n",
    "        df_roc = getROCCurveValues(model, X_train, y_train, trnIdx, valIdx, df_roc)\n",
    "        \n",
    "        # Get Prediction Probabilities\n",
    "        df_pred = getPredProb(model, fold, df_pred, X_test)\n",
    "        \n",
    "        # Feature Importance\n",
    "        df_featImp = getFeatImp(model, df_featImp, fold)\n",
    "        \n",
    "    print('Average OOB Score: {}'.format(oob))\n",
    "    return df_pred, df_roc, df_featImp, oob\n",
    "\n",
    "# ROC Curve Values\n",
    "def getROCCurveValues(model, X_train, y_train, trnIdx, valIdx, df_roc):    \n",
    "    # Train\n",
    "    trnFpr, trnTpr, trnThresholds = roc_curve(y_train[trnIdx], model.predict_proba(X_train[trnIdx])[:, 1])\n",
    "    trnAucScore = auc(trnFpr, trnTpr)\n",
    "    \n",
    "    # Validation\n",
    "    valFpr, valTpr, valThresholds = roc_curve(y_train[valIdx], model.predict_proba(X_train[valIdx])[:, 1])\n",
    "    valAucScore = auc(valFpr, valTpr)\n",
    "    \n",
    "    # Append Scores\n",
    "    df_rocTemp = pd.DataFrame({'fprs': [valFpr], \n",
    "                               'tprs': [valTpr], \n",
    "                               'trnAucScore': [trnAucScore], \n",
    "                               'valAucScore': [valAucScore]})\n",
    "    df_roc = pd.concat([df_roc, df_rocTemp])\n",
    "    return df_roc\n",
    "\n",
    "# Get Prediction Probabilities\n",
    "def getPredProb(model, fold, df_pred, X_test):\n",
    "    # X_test probabilities\n",
    "    df_pred.loc[:, 'Fold_{}_Prob_0'.format(fold)] = model.predict_proba(X_test)[:, 0]\n",
    "    df_pred.loc[:, 'Fold_{}_Prob_1'.format(fold)] = model.predict_proba(X_test)[:, 1]\n",
    "    return df_pred\n",
    "\n",
    "# Feature Importance\n",
    "def getFeatImp(model, df_featImp, fold):\n",
    "    df_featImp.iloc[:, fold - 1] = model.feature_importances_\n",
    "    return df_featImp\n",
    "\n",
    "df_pred, df_roc, df_featImp, oob = evaluateModel(model, df_train, X_train, y_train, X_test, N)"
   ]
  },
  {
   "cell_type": "markdown",
   "metadata": {},
   "source": [
    "## Plot of Feature Importance"
   ]
  },
  {
   "cell_type": "code",
   "execution_count": 20,
   "metadata": {},
   "outputs": [
    {
     "data": {
      "image/png": "[encoded data removed]",
      "text/plain": [
       "<Figure size 1080x1440 with 1 Axes>"
      ]
     },
     "metadata": {
      "needs_background": "light"
     },
     "output_type": "display_data"
    }
   ],
   "source": [
    "def plotFeatImp(df_featImp):\n",
    "    df_featImp['Mean_Importance'] = df_featImp.mean(axis=1)\n",
    "    df_featImp.sort_values(by='Mean_Importance', inplace=True, ascending=False)\n",
    "    \n",
    "    plt.figure(figsize=(15, 20))\n",
    "    sns.barplot(x='Mean_Importance', y=df_featImp.index, data=df_featImp)\n",
    "    \n",
    "    plt.xlabel('')\n",
    "    plt.tick_params(axis='x', labelsize=15)\n",
    "    plt.tick_params(axis='y', labelsize=15)\n",
    "    plt.title('Random Forest Classifier Mean Feature Importance Between Folds', size=15)\n",
    "    \n",
    "    plt.show()\n",
    "    \n",
    "plotFeatImp(df_featImp)"
   ]
  },
  {
   "cell_type": "markdown",
   "metadata": {},
   "source": [
    "## Plot of ROC Curve"
   ]
  },
  {
   "cell_type": "code",
   "execution_count": 21,
   "metadata": {},
   "outputs": [
    {
     "data": {
      "image/png": "[encoded data removed]",
      "text/plain": [
       "<Figure size 1080x1080 with 1 Axes>"
      ]
     },
     "metadata": {
      "needs_background": "light"
     },
     "output_type": "display_data"
    }
   ],
   "source": [
    "def plot_roc_curve(df_roc):\n",
    "    # Define fprs and tprs\n",
    "    fprs = list(df_roc['fprs'])\n",
    "    tprs = list(df_roc['tprs'])\n",
    "    \n",
    "    tprs_interp = []\n",
    "    aucs = []\n",
    "    mean_fpr = np.linspace(0, 1, 100)\n",
    "    f, ax = plt.subplots(figsize=(15, 15))\n",
    "    \n",
    "    # Plotting ROC for each fold and computing AUC scores\n",
    "    for i, (fpr, tpr) in enumerate(zip(fprs, tprs), 1):\n",
    "        tprs_interp.append(np.interp(mean_fpr, fpr, tpr))\n",
    "        tprs_interp[-1][0] = 0.0\n",
    "        roc_auc = auc(fpr, tpr)\n",
    "        aucs.append(roc_auc)\n",
    "        ax.plot(fpr, tpr, lw=1, alpha=0.3, label='ROC Fold {} (AUC = {:.3f})'.format(i, roc_auc))\n",
    "        \n",
    "    # Plotting ROC for random guessing\n",
    "    plt.plot([0, 1], [0, 1], linestyle='--', lw=2, color='r', alpha=0.8, label='Random Guessing')\n",
    "    \n",
    "    mean_tpr = np.mean(tprs_interp, axis=0)\n",
    "    mean_tpr[-1] = 1.0\n",
    "    mean_auc = auc(mean_fpr, mean_tpr)\n",
    "    std_auc = np.std(aucs)\n",
    "    \n",
    "    # Plotting the mean ROC\n",
    "    ax.plot(mean_fpr, mean_tpr, color='b', label='Mean ROC (AUC = {:.3f} $\\pm$ {:.3f})'.format(mean_auc, std_auc), \n",
    "            lw=2, alpha=0.8)\n",
    "    \n",
    "    # Plotting the standard deviation around the mean ROC Curve\n",
    "    std_tpr = np.std(tprs_interp, axis=0)\n",
    "    tprs_upper = np.minimum(mean_tpr + std_tpr, 1)\n",
    "    tprs_lower = np.maximum(mean_tpr - std_tpr, 0)\n",
    "    ax.fill_between(mean_fpr, tprs_lower, tprs_upper, color='grey', alpha=.2, label='$\\pm$ 1 std. dev.')\n",
    "    \n",
    "    ax.set_xlabel('False Positive Rate', size=15, labelpad=20)\n",
    "    ax.set_ylabel('True Positive Rate', size=15, labelpad=20)\n",
    "    ax.tick_params(axis='x', labelsize=15)\n",
    "    ax.tick_params(axis='y', labelsize=15)\n",
    "    ax.set_xlim([-0.05, 1.05])\n",
    "    ax.set_ylim([-0.05, 1.05])\n",
    "\n",
    "    ax.set_title('ROC Curves of Folds', size=20, y=1.02)\n",
    "    ax.legend(loc='lower right', prop={'size': 13})\n",
    "    \n",
    "    plt.show()\n",
    "    \n",
    "plot_roc_curve(df_roc)"
   ]
  },
  {
   "cell_type": "markdown",
   "metadata": {},
   "source": [
    "## Make Prediction on testing data"
   ]
  },
  {
   "cell_type": "code",
   "execution_count": 22,
   "metadata": {},
   "outputs": [
    {
     "name": "stdout",
     "output_type": "stream",
     "text": [
      "Accuracy: 0.998230684977673\n",
      "Precision: 0.9405940594059405\n",
      "Recall: 0.8636363636363636\n",
      "F1: 0.9004739336492891\n"
     ]
    }
   ],
   "source": [
    "def makePrediction(model, df_pred, df, y_test, N):\n",
    "    # Class anomaly are columns that end with Prob_1\n",
    "    class_anomaly = [col for col in df_pred.columns if col.endswith('Prob_1')]\n",
    "    \n",
    "    # Average anomaly and not anomaly classes\n",
    "    df_pred['1'] = df_pred[class_anomaly].sum(axis=1) / N\n",
    "    df_pred['0'] = df_pred.drop(columns=class_anomaly).sum(axis=1) / N\n",
    "    \n",
    "    # Initiate prediction column\n",
    "    df_pred['pred'] = 0\n",
    "    \n",
    "    # Get indices of anomaly and set pred = 1 if anomaly\n",
    "    pos = df_pred[df_pred['1'] >= 0.5].index\n",
    "    df_pred.loc[pos, 'pred'] = 1\n",
    "    \n",
    "    # Predictions\n",
    "    y_pred = df_pred['pred'].astype(int)\n",
    "    \n",
    "    # Get test set\n",
    "    testStartIdx = getTestStartIdx(df)\n",
    "    df_test = df[testStartIdx:]\n",
    "    \n",
    "    # Create submissions df with date and anomaly\n",
    "    df_submission = pd.DataFrame()\n",
    "    df_submission['date'] = df_test['date']\n",
    "    df_submission['Predicted'] = y_pred.values\n",
    "    df_submission['Actual'] = y_test\n",
    "    \n",
    "    # Count how many correct\n",
    "    df_submission['Correct'] = df_submission.apply(lambda row: 1 if row['Predicted'] == row['Actual'] else 0, axis=1)\n",
    "    \n",
    "    # Ensure submission not based on imputed anomolies\n",
    "    df_submission = df_submission[~df_submission['date'].isin(list(df_nan['date']))]\n",
    "    \n",
    "    # Calculate Metrics\n",
    "    accuracy = accuracy_score(df_submission['Actual'], df_submission['Predicted'])    # Accuracy\n",
    "    precision = precision_score(df_submission['Actual'], df_submission['Predicted'])  # precision\n",
    "    recall = recall_score(df_submission['Actual'], df_submission['Predicted'])        # recall\n",
    "    f1 = f1_score(df_submission['Actual'], df_submission['Predicted'])                # f1\n",
    "    return df_submission, accuracy, precision, recall, f1\n",
    "\n",
    "df_submission, accuracy, precision, recall, f1 = makePrediction(model, df_pred, df, y_test, N)\n",
    "print('Accuracy:', accuracy)\n",
    "print('Precision:', precision)\n",
    "print('Recall:', recall)\n",
    "print('F1:', f1)"
   ]
  },
  {
   "cell_type": "markdown",
   "metadata": {},
   "source": [
    "## Results\n",
    "Overall these results look really good.  A business owner can view this analysis and determine that the best time to open up shop is during the summer in the day time.  Because these results can predict the traffic three hours into the future, they can know when to open up and close shop.  It is also important for them not to miss a single critical day.  For example, we saw that the month of May had many anomolies over the years.  May could drive most of the revenue for the entire year.  "
   ]
  },
  {
   "cell_type": "markdown",
   "metadata": {},
   "source": [
    "## Future steps\n",
    "- The performance of this model is suspiciously good.  I would definitely want to do further testing to make sure that the results are accurate.  \n",
    "- I really wanted to see if there was any correlation between north and south traffic.  I really thought that I could find a lag that would indicate returning travelers.  \n",
    "- I would like to try regression on the total number of travelers, rather than a binary classification on anomalies.  I feel like there is information lost when doing classification.  \n",
    "- I would also like to try a SARIMA model"
   ]
  },
  {
   "cell_type": "code",
   "execution_count": null,
   "metadata": {},
   "outputs": [],
   "source": []
  }
 ],
 "metadata": {
  "kernelspec": {
   "display_name": "Python 3",
   "language": "python",
   "name": "python3"
  },
  "language_info": {
   "codemirror_mode": {
    "name": "ipython",
    "version": 3
   },
   "file_extension": ".py",
   "mimetype": "text/x-python",
   "name": "python",
   "nbconvert_exporter": "python",
   "pygments_lexer": "ipython3",
   "version": "3.8.3"
  }
 },
 "nbformat": 4,
 "nbformat_minor": 5
}
